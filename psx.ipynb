{
 "cells": [
  {
   "cell_type": "code",
   "execution_count": null,
   "id": "875f956e",
   "metadata": {},
   "outputs": [
    {
     "name": "stdout",
     "output_type": "stream",
     "text": [
      "✅ Data saved to 'psx_market_summary.xlsx'\n"
     ]
    }
   ],
   "source": [
    "from selenium import webdriver\n",
    "from selenium.webdriver.chrome.service import Service\n",
    "from selenium.webdriver.chrome.options import Options\n",
    "from selenium.webdriver.common.by import By\n",
    "import pandas as pd\n",
    "\n",
    "options = Options()\n",
    "options.add_argument(\"--headless\")\n",
    "options.add_argument(\"--disable-gpu\")\n",
    "options.add_argument(\"--window-size=1920,1080\")\n",
    "\n",
    "path = r'C:\\chromedriver-win64\\chromedriver.exe'\n",
    "service = Service(path)\n",
    "service.start()\n",
    "\n",
    "driver = webdriver.Chrome(path, options=options)\n",
    "driver.get(\"https://www.psx.com.pk/market-summary/\")\n",
    "\n",
    "\n",
    "data = []\n",
    "\n",
    "rows = driver.find_elements(By.XPATH, \"//table//tbody/tr[substring(@class, string-length(@class) - string-length('text-td') + 1) = 'text-td']\")\n",
    "\n",
    "# print(rows)\n",
    "for row in rows:\n",
    "    cols = row.find_elements(By.TAG_NAME, 'td')\n",
    "    data.append({\n",
    "        \"SCRIP\": cols[0].text if len(cols) > 0 else '',\n",
    "        \"LDCP\": cols[1].text if len(cols) > 1 else '',\n",
    "        \"OPEN\": cols[2].text if len(cols) > 2 else '',\n",
    "        \"HIGH\": cols[3].text if len(cols) > 3 else '',\n",
    "        \"LOW\": cols[4].text if len(cols) > 4 else '',\n",
    "        \"CURRENT\": cols[5].text if len(cols) > 5 else '',\n",
    "        \"CHANGE\": cols[6].text if len(cols) > 6 else '',\n",
    "        \"Volume\": cols[7].text if len(cols) > 7 else ''\n",
    "    })\n",
    "\n",
    "driver.quit()\n",
    "\n",
    "df = pd.DataFrame(data)\n",
    "df.to_excel(\"psx_market_summary.xlsx\", index=True)\n",
    "\n",
    "print(\"✅ Data saved to 'psx_market_summary.xlsx'\")\n"
   ]
  }
 ],
 "metadata": {
  "kernelspec": {
   "display_name": "base",
   "language": "python",
   "name": "python3"
  },
  "language_info": {
   "codemirror_mode": {
    "name": "ipython",
    "version": 3
   },
   "file_extension": ".py",
   "mimetype": "text/x-python",
   "name": "python",
   "nbconvert_exporter": "python",
   "pygments_lexer": "ipython3",
   "version": "3.12.7"
  }
 },
 "nbformat": 4,
 "nbformat_minor": 5
}
